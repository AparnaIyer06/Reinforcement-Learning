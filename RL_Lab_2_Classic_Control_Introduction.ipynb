{
  "nbformat": 4,
  "nbformat_minor": 0,
  "metadata": {
    "colab": {
      "provenance": []
    },
    "kernelspec": {
      "name": "python3",
      "display_name": "Python 3"
    },
    "language_info": {
      "name": "python"
    }
  },
  "cells": [
    {
      "cell_type": "markdown",
      "source": [
        "Name: Aparna Iyer\n",
        "\n",
        "PRN: 22070126017\n",
        "\n",
        "Batch: 2022-2026\n",
        "\n",
        "Branch: AI-ML A1"
      ],
      "metadata": {
        "id": "TO5Y9vktk7N9"
      }
    },
    {
      "cell_type": "markdown",
      "source": [
        "Control Theory Problems from RL Literature"
      ],
      "metadata": {
        "id": "QxbdKa-ElLpG"
      }
    },
    {
      "cell_type": "markdown",
      "source": [
        "1. Instantiate Control\n",
        "2. Pass the control object to the function.\n",
        "3. Check the action and state spaces."
      ],
      "metadata": {
        "id": "DlRiVzXMp4_0"
      }
    },
    {
      "cell_type": "code",
      "source": [
        "import gym\n",
        "import numpy as np   #Import Numpy\n",
        "from IPython import display\n",
        "from matplotlib import pyplot as plt\n",
        "%matplotlib inline"
      ],
      "metadata": {
        "id": "L3w6i55OlBv9"
      },
      "execution_count": null,
      "outputs": []
    },
    {
      "cell_type": "code",
      "source": [
        "def test_env(env: gym.Env)-> None:  #Passing an object of gym.Env (env) as argument\n",
        "  env.reset()\n",
        "  done = False\n",
        "  img = plt.imshow(env.render(mode = 'rgb_array'))\n",
        "  while not done:\n",
        "    _,_,done,_ = env.step(env.action_space.sample())  #Samples an action randomly from the Action Space\n",
        "    img.set_data(env.render(mode = 'rgb_array'))\n",
        "    plt.axis('off')\n",
        "    display.display(plt.gcf())\n",
        "    display.clear_output(wait = True)"
      ],
      "metadata": {
        "colab": {
          "base_uri": "https://localhost:8080/"
        },
        "id": "WGrNU6V-lSd-",
        "outputId": "ddcafc1e-99d1-4f47-9dc8-dc78c81de68e"
      },
      "execution_count": null,
      "outputs": [
        {
          "output_type": "stream",
          "name": "stderr",
          "text": [
            "/usr/local/lib/python3.11/dist-packages/ipykernel/ipkernel.py:283: DeprecationWarning: `should_run_async` will not call `transform_cell` automatically in the future. Please pass the result to `transformed_cell` argument and any exception that happen during thetransform in `preprocessing_exc_tuple` in IPython 7.17 and above.\n",
            "  and should_run_async(code)\n"
          ]
        }
      ]
    },
    {
      "cell_type": "markdown",
      "source": [
        "Control 1: Cart Pole: Keep the tip of the pole straight."
      ],
      "metadata": {
        "id": "NPDDBBmEmgvW"
      }
    },
    {
      "cell_type": "code",
      "source": [
        "env = gym.make('CartPole-v1')  #Declaring an environment\n",
        "test_env(env)\n",
        "env.close()"
      ],
      "metadata": {
        "colab": {
          "base_uri": "https://localhost:8080/",
          "height": 367
        },
        "id": "zjxBcKXPmNIO",
        "outputId": "ebc3a19e-4bb4-49de-f10f-4677ee89a031"
      },
      "execution_count": null,
      "outputs": [
        {
          "output_type": "display_data",
          "data": {
            "text/plain": [
              "<Figure size 640x480 with 1 Axes>"
            ],
            "image/png": "[encoded data removed]"
          },
          "metadata": {}
        }
      ]
    },
    {
      "cell_type": "markdown",
      "source": [
        "The State"
      ],
      "metadata": {
        "id": "WVDwiEsLm2Js"
      }
    },
    {
      "cell_type": "markdown",
      "source": [],
      "metadata": {
        "id": "9N9NPKF2nQVF"
      }
    },
    {
      "cell_type": "code",
      "source": [
        "env.observation_space #State Space = observation_space"
      ],
      "metadata": {
        "colab": {
          "base_uri": "https://localhost:8080/"
        },
        "id": "CKcZMNlgm3mj",
        "outputId": "e406711d-7411-4b35-c5bb-5d84a2d2752d"
      },
      "execution_count": null,
      "outputs": [
        {
          "output_type": "execute_result",
          "data": {
            "text/plain": [
              "Box([-4.8000002e+00 -3.4028235e+38 -4.1887903e-01 -3.4028235e+38], [4.8000002e+00 3.4028235e+38 4.1887903e-01 3.4028235e+38], (4,), float32)"
            ]
          },
          "metadata": {},
          "execution_count": 10
        }
      ]
    },
    {
      "cell_type": "code",
      "source": [
        "env.action_space  #Possible Actions"
      ],
      "metadata": {
        "colab": {
          "base_uri": "https://localhost:8080/"
        },
        "id": "SRlUnJyknR3Q",
        "outputId": "ab5e2c93-3a54-4709-91d5-a876f850b4b0"
      },
      "execution_count": null,
      "outputs": [
        {
          "output_type": "execute_result",
          "data": {
            "text/plain": [
              "Discrete(2)"
            ]
          },
          "metadata": {},
          "execution_count": 13
        }
      ]
    },
    {
      "cell_type": "markdown",
      "source": [
        "Control 2: Acrobot : Swing the bar up to a certain height."
      ],
      "metadata": {
        "id": "jck1zsc2npLO"
      }
    },
    {
      "cell_type": "code",
      "source": [
        "env = gym.make('Acrobot-v1') #Environment created for Acrobot Control from OpenAI Gym\n",
        "test_env(env)  #Call the test_env function on the environment created\n",
        "env.close()"
      ],
      "metadata": {
        "colab": {
          "base_uri": "https://localhost:8080/",
          "height": 406
        },
        "id": "XeUIRQwLnsDG",
        "outputId": "73d20035-d62e-4b50-9669-b7df69c07489"
      },
      "execution_count": null,
      "outputs": [
        {
          "output_type": "display_data",
          "data": {
            "text/plain": [
              "<Figure size 640x480 with 1 Axes>"
            ],
            "image/png": "[encoded data removed]"
          },
          "metadata": {}
        }
      ]
    },
    {
      "cell_type": "code",
      "source": [
        "env.observation_space"
      ],
      "metadata": {
        "colab": {
          "base_uri": "https://localhost:8080/"
        },
        "id": "oSBOlbyGoBqA",
        "outputId": "5a92f123-5471-4e0f-f437-536a38440bc7"
      },
      "execution_count": null,
      "outputs": [
        {
          "output_type": "execute_result",
          "data": {
            "text/plain": [
              "Box([ -1.        -1.        -1.        -1.       -12.566371 -28.274334], [ 1.        1.        1.        1.       12.566371 28.274334], (6,), float32)"
            ]
          },
          "metadata": {},
          "execution_count": 19
        }
      ]
    },
    {
      "cell_type": "code",
      "source": [
        "env.action_space"
      ],
      "metadata": {
        "colab": {
          "base_uri": "https://localhost:8080/"
        },
        "id": "uf_om6LOoLXI",
        "outputId": "d86f9be5-4a4e-42af-b7c8-140718373a79"
      },
      "execution_count": null,
      "outputs": [
        {
          "output_type": "execute_result",
          "data": {
            "text/plain": [
              "Discrete(3)"
            ]
          },
          "metadata": {},
          "execution_count": 18
        }
      ]
    },
    {
      "cell_type": "markdown",
      "source": [
        "Control 3: Mountain Car- Reach the goal from the bottom of the valley."
      ],
      "metadata": {
        "id": "ukp_tkmJoGic"
      }
    },
    {
      "cell_type": "code",
      "source": [
        "env = gym.make('MountainCar-v0') #Environment created for MountainCar Control from OpenAI Gym\n",
        "test_env(env)  #Call the test_env function on the environment created\n",
        "env.close()"
      ],
      "metadata": {
        "colab": {
          "base_uri": "https://localhost:8080/",
          "height": 367
        },
        "id": "7RkQ_ZKrojKN",
        "outputId": "6ab39ac1-b83a-4275-9024-28945cc43e23"
      },
      "execution_count": null,
      "outputs": [
        {
          "output_type": "display_data",
          "data": {
            "text/plain": [
              "<Figure size 640x480 with 1 Axes>"
            ],
            "image/png": "[encoded data removed]"
          },
          "metadata": {}
        }
      ]
    },
    {
      "cell_type": "code",
      "source": [
        "env.observation_space"
      ],
      "metadata": {
        "colab": {
          "base_uri": "https://localhost:8080/"
        },
        "id": "dRKqSRtioDii",
        "outputId": "d865cf15-3c92-4067-9415-c3cea195d017"
      },
      "execution_count": null,
      "outputs": [
        {
          "output_type": "execute_result",
          "data": {
            "text/plain": [
              "Box([-1.2  -0.07], [0.6  0.07], (2,), float32)"
            ]
          },
          "metadata": {},
          "execution_count": 22
        }
      ]
    },
    {
      "cell_type": "code",
      "source": [
        "env.action_space"
      ],
      "metadata": {
        "colab": {
          "base_uri": "https://localhost:8080/"
        },
        "id": "y33Yxhc-pSw6",
        "outputId": "a5cfba5a-b68f-45a0-97a7-12589f95207e"
      },
      "execution_count": null,
      "outputs": [
        {
          "output_type": "execute_result",
          "data": {
            "text/plain": [
              "Discrete(3)"
            ]
          },
          "metadata": {},
          "execution_count": 24
        }
      ]
    },
    {
      "cell_type": "markdown",
      "source": [
        "Control 4: Pendulum - Swing it and keep it upright"
      ],
      "metadata": {
        "id": "BRBeDDN2pgSU"
      }
    },
    {
      "cell_type": "code",
      "source": [
        "env = gym.make('Pendulum-v1') #Environment created for Pendulum Control from OpenAI Gym\n",
        "test_env(env)  #Call the test_env function on the environment created\n",
        "env.close()"
      ],
      "metadata": {
        "colab": {
          "base_uri": "https://localhost:8080/",
          "height": 406
        },
        "id": "76qX10kLpjnb",
        "outputId": "e9f866b0-7dd4-4a9a-e74b-6eb0f36d1537"
      },
      "execution_count": null,
      "outputs": [
        {
          "output_type": "display_data",
          "data": {
            "text/plain": [
              "<Figure size 640x480 with 1 Axes>"
            ],
            "image/png": "[encoded data removed]"
          },
          "metadata": {}
        }
      ]
    },
    {
      "cell_type": "code",
      "source": [
        "env.observation_space"
      ],
      "metadata": {
        "colab": {
          "base_uri": "https://localhost:8080/"
        },
        "id": "XisECPfTpjvb",
        "outputId": "1dffc437-7c28-47c4-e42f-7af9e702cb18"
      },
      "execution_count": null,
      "outputs": [
        {
          "output_type": "execute_result",
          "data": {
            "text/plain": [
              "Box([-1. -1. -8.], [1. 1. 8.], (3,), float32)"
            ]
          },
          "metadata": {},
          "execution_count": 28
        }
      ]
    },
    {
      "cell_type": "code",
      "source": [
        "env.action_space"
      ],
      "metadata": {
        "colab": {
          "base_uri": "https://localhost:8080/"
        },
        "id": "kkkussNgpj2p",
        "outputId": "296d5403-a2d1-4c4e-dd15-4a5960755788"
      },
      "execution_count": null,
      "outputs": [
        {
          "output_type": "execute_result",
          "data": {
            "text/plain": [
              "Box(-2.0, 2.0, (1,), float32)"
            ]
          },
          "metadata": {},
          "execution_count": 27
        }
      ]
    }
  ]
}